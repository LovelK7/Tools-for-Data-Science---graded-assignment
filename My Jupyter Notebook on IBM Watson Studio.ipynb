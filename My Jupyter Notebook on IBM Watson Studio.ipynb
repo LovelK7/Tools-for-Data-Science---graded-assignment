{
    "cells": [
        {
            "cell_type": "markdown",
            "metadata": {
                "collapsed": true
            },
            "source": "## My Jupyter Notebook on IBM Watson Studio"
        },
        {
            "cell_type": "markdown",
            "metadata": {},
            "source": "__Lovel Kukuljan__ <br>\nData scientist"
        },
        {
            "cell_type": "markdown",
            "metadata": {},
            "source": "_I'm interested in data science because it is a fast growing field for making use of data, which is being generated at unprecendented rate nowadays. Whit expertise in data science I will be able to make contribution to the world and find purpose._"
        },
        {
            "cell_type": "markdown",
            "metadata": {},
            "source": "### The next code cell displays a result of multiplication"
        },
        {
            "cell_type": "code",
            "execution_count": 1,
            "metadata": {},
            "outputs": [
                {
                    "name": "stdout",
                    "output_type": "stream",
                    "text": "180\n"
                }
            ],
            "source": "print(12*15)"
        },
        {
            "cell_type": "markdown",
            "metadata": {},
            "source": "***\n- Item1\n- Item2\n- Item3 \n\nHeading1|Heading2|Heading3\n---|---|---\nText1|Text2|Text3\n\nCol1 |Col2 |Col3\n-----|-----|----- \nData1|Data2|Data3\nData1|Data2|Data3\nData1|Data2|Data3\nData1|Data2|Data3\n\n[Tables in Jupyter](https://stackoverflow.com/questions/48655801/tables-in-markdown-in-jupyter)\n\n![](https://miro.medium.com/max/828/1*Xkgj-E_ZL7Cgnxbh9ODbPA.png)\n\nThis is highlighted code: <code> print(12*15) </code>\n\n> This is a blockquote \n\n~~Scratch this~~"
        },
        {
            "cell_type": "code",
            "execution_count": null,
            "metadata": {},
            "outputs": [],
            "source": ""
        }
    ],
    "metadata": {
        "kernelspec": {
            "display_name": "Python 3.9",
            "language": "python",
            "name": "python3"
        },
        "language_info": {
            "codemirror_mode": {
                "name": "ipython",
                "version": 3
            },
            "file_extension": ".py",
            "mimetype": "text/x-python",
            "name": "python",
            "nbconvert_exporter": "python",
            "pygments_lexer": "ipython3",
            "version": "3.9.12"
        }
    },
    "nbformat": 4,
    "nbformat_minor": 1
}